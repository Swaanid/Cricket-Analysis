{
 "cells": [
  {
   "cell_type": "markdown",
   "id": "f4909717",
   "metadata": {},
   "source": [
    "# Cricket Analysis"
   ]
  },
  {
   "cell_type": "code",
   "execution_count": 4,
   "id": "637fcbe9",
   "metadata": {},
   "outputs": [],
   "source": [
    "import pandas as pd"
   ]
  },
  {
   "cell_type": "code",
   "execution_count": 5,
   "id": "ecf1b270",
   "metadata": {},
   "outputs": [],
   "source": [
    "import numpy as np"
   ]
  },
  {
   "cell_type": "code",
   "execution_count": 6,
   "id": "9e172dd0",
   "metadata": {},
   "outputs": [],
   "source": [
    "import matplotlib.pyplot as plt"
   ]
  },
  {
   "cell_type": "code",
   "execution_count": 7,
   "id": "3885e4d6",
   "metadata": {},
   "outputs": [],
   "source": [
    "import seaborn as sns\n"
   ]
  },
  {
   "cell_type": "markdown",
   "id": "87c4c48a",
   "metadata": {},
   "source": [
    " First of all we explain the weight and height of each samples or bowlers .Also provide the Average height and weight of the data"
   ]
  },
  {
   "cell_type": "code",
   "execution_count": 8,
   "id": "1f249212",
   "metadata": {},
   "outputs": [],
   "source": [
    "D=({\"Weight(kg)\":[80,65,67,62,58],\"Height(cm)\":[179,175,172,170,169]})"
   ]
  },
  {
   "cell_type": "code",
   "execution_count": 9,
   "id": "6dd0f793",
   "metadata": {},
   "outputs": [],
   "source": [
    "Data=pd.DataFrame(D,index=[\"Sample1\",\"Sample2\",\"Sample3\",\"Sample4\",\"sample5\"])"
   ]
  },
  {
   "cell_type": "code",
   "execution_count": 10,
   "id": "4fac0a29",
   "metadata": {},
   "outputs": [
    {
     "data": {
      "text/html": [
       "<div>\n",
       "<style scoped>\n",
       "    .dataframe tbody tr th:only-of-type {\n",
       "        vertical-align: middle;\n",
       "    }\n",
       "\n",
       "    .dataframe tbody tr th {\n",
       "        vertical-align: top;\n",
       "    }\n",
       "\n",
       "    .dataframe thead th {\n",
       "        text-align: right;\n",
       "    }\n",
       "</style>\n",
       "<table border=\"1\" class=\"dataframe\">\n",
       "  <thead>\n",
       "    <tr style=\"text-align: right;\">\n",
       "      <th></th>\n",
       "      <th>Weight(kg)</th>\n",
       "      <th>Height(cm)</th>\n",
       "    </tr>\n",
       "  </thead>\n",
       "  <tbody>\n",
       "    <tr>\n",
       "      <th>Sample1</th>\n",
       "      <td>80</td>\n",
       "      <td>179</td>\n",
       "    </tr>\n",
       "    <tr>\n",
       "      <th>Sample2</th>\n",
       "      <td>65</td>\n",
       "      <td>175</td>\n",
       "    </tr>\n",
       "    <tr>\n",
       "      <th>Sample3</th>\n",
       "      <td>67</td>\n",
       "      <td>172</td>\n",
       "    </tr>\n",
       "    <tr>\n",
       "      <th>Sample4</th>\n",
       "      <td>62</td>\n",
       "      <td>170</td>\n",
       "    </tr>\n",
       "    <tr>\n",
       "      <th>sample5</th>\n",
       "      <td>58</td>\n",
       "      <td>169</td>\n",
       "    </tr>\n",
       "  </tbody>\n",
       "</table>\n",
       "</div>"
      ],
      "text/plain": [
       "         Weight(kg)  Height(cm)\n",
       "Sample1          80         179\n",
       "Sample2          65         175\n",
       "Sample3          67         172\n",
       "Sample4          62         170\n",
       "sample5          58         169"
      ]
     },
     "execution_count": 10,
     "metadata": {},
     "output_type": "execute_result"
    }
   ],
   "source": [
    "Data"
   ]
  },
  {
   "cell_type": "markdown",
   "id": "5da02d26",
   "metadata": {},
   "source": [
    "Lets define a function to find average weight and height of the data"
   ]
  },
  {
   "cell_type": "code",
   "execution_count": 11,
   "id": "05d3d466",
   "metadata": {},
   "outputs": [],
   "source": [
    "def mean_sd(Data):\n",
    "    mean=Data.mean()\n",
    "    sd=np.std(Data)\n",
    "    return(pd.DataFrame([mean,sd]))"
   ]
  },
  {
   "cell_type": "code",
   "execution_count": 12,
   "id": "142318f7",
   "metadata": {},
   "outputs": [],
   "source": [
    "D=mean_sd(Data)"
   ]
  },
  {
   "cell_type": "code",
   "execution_count": 13,
   "id": "4bd8d83c",
   "metadata": {},
   "outputs": [
    {
     "data": {
      "text/html": [
       "<div>\n",
       "<style scoped>\n",
       "    .dataframe tbody tr th:only-of-type {\n",
       "        vertical-align: middle;\n",
       "    }\n",
       "\n",
       "    .dataframe tbody tr th {\n",
       "        vertical-align: top;\n",
       "    }\n",
       "\n",
       "    .dataframe thead th {\n",
       "        text-align: right;\n",
       "    }\n",
       "</style>\n",
       "<table border=\"1\" class=\"dataframe\">\n",
       "  <thead>\n",
       "    <tr style=\"text-align: right;\">\n",
       "      <th></th>\n",
       "      <th>Weight(kg)</th>\n",
       "      <th>Height(cm)</th>\n",
       "    </tr>\n",
       "  </thead>\n",
       "  <tbody>\n",
       "    <tr>\n",
       "      <th>0</th>\n",
       "      <td>66.400000</td>\n",
       "      <td>173.00000</td>\n",
       "    </tr>\n",
       "    <tr>\n",
       "      <th>1</th>\n",
       "      <td>7.445804</td>\n",
       "      <td>3.63318</td>\n",
       "    </tr>\n",
       "  </tbody>\n",
       "</table>\n",
       "</div>"
      ],
      "text/plain": [
       "   Weight(kg)  Height(cm)\n",
       "0   66.400000   173.00000\n",
       "1    7.445804     3.63318"
      ]
     },
     "execution_count": 13,
     "metadata": {},
     "output_type": "execute_result"
    }
   ],
   "source": [
    "D"
   ]
  },
  {
   "cell_type": "code",
   "execution_count": 14,
   "id": "13189a68",
   "metadata": {},
   "outputs": [
    {
     "data": {
      "text/html": [
       "<div>\n",
       "<style scoped>\n",
       "    .dataframe tbody tr th:only-of-type {\n",
       "        vertical-align: middle;\n",
       "    }\n",
       "\n",
       "    .dataframe tbody tr th {\n",
       "        vertical-align: top;\n",
       "    }\n",
       "\n",
       "    .dataframe thead th {\n",
       "        text-align: right;\n",
       "    }\n",
       "</style>\n",
       "<table border=\"1\" class=\"dataframe\">\n",
       "  <thead>\n",
       "    <tr style=\"text-align: right;\">\n",
       "      <th></th>\n",
       "      <th>Weight(kg)</th>\n",
       "      <th>Height(cm)</th>\n",
       "    </tr>\n",
       "  </thead>\n",
       "  <tbody>\n",
       "    <tr>\n",
       "      <th>mean</th>\n",
       "      <td>66.400000</td>\n",
       "      <td>173.00000</td>\n",
       "    </tr>\n",
       "    <tr>\n",
       "      <th>std_deviation</th>\n",
       "      <td>7.445804</td>\n",
       "      <td>3.63318</td>\n",
       "    </tr>\n",
       "  </tbody>\n",
       "</table>\n",
       "</div>"
      ],
      "text/plain": [
       "               Weight(kg)  Height(cm)\n",
       "mean            66.400000   173.00000\n",
       "std_deviation    7.445804     3.63318"
      ]
     },
     "execution_count": 14,
     "metadata": {},
     "output_type": "execute_result"
    }
   ],
   "source": [
    "D.rename({0:\"mean\",1:\"std_deviation\"})"
   ]
  },
  {
   "cell_type": "markdown",
   "id": "929e2788",
   "metadata": {},
   "source": [
    "## Elbow angle\n",
    "\n",
    "This data discuss the  elbow angles for 5 trails for each sample.Lets find the mean elbow angle for each samples"
   ]
  },
  {
   "cell_type": "code",
   "execution_count": 15,
   "id": "6fa799b0",
   "metadata": {},
   "outputs": [],
   "source": [
    "ELBOW=pd.DataFrame({\"1\":[88.6,67.6,74.1,120.9,139.1],\"2\":[94.9,102.15,57.2,151.9,128.2],\"3\":[154.4,61.1,65.4,136,137.8],\"4\":[74.9,55.4,70.9,137.7,126.9],\"5\":[102.2,75.2,68.8,125.8,148.2]},index=[\"Sample1\",\"Sample2\",\"Sample3\",\"Sample4\",\"Sample5\"])"
   ]
  },
  {
   "cell_type": "code",
   "execution_count": 16,
   "id": "6b68a877",
   "metadata": {},
   "outputs": [
    {
     "data": {
      "text/html": [
       "<div>\n",
       "<style scoped>\n",
       "    .dataframe tbody tr th:only-of-type {\n",
       "        vertical-align: middle;\n",
       "    }\n",
       "\n",
       "    .dataframe tbody tr th {\n",
       "        vertical-align: top;\n",
       "    }\n",
       "\n",
       "    .dataframe thead th {\n",
       "        text-align: right;\n",
       "    }\n",
       "</style>\n",
       "<table border=\"1\" class=\"dataframe\">\n",
       "  <thead>\n",
       "    <tr style=\"text-align: right;\">\n",
       "      <th></th>\n",
       "      <th>1</th>\n",
       "      <th>2</th>\n",
       "      <th>3</th>\n",
       "      <th>4</th>\n",
       "      <th>5</th>\n",
       "    </tr>\n",
       "  </thead>\n",
       "  <tbody>\n",
       "    <tr>\n",
       "      <th>Sample1</th>\n",
       "      <td>88.6</td>\n",
       "      <td>94.90</td>\n",
       "      <td>154.4</td>\n",
       "      <td>74.9</td>\n",
       "      <td>102.2</td>\n",
       "    </tr>\n",
       "    <tr>\n",
       "      <th>Sample2</th>\n",
       "      <td>67.6</td>\n",
       "      <td>102.15</td>\n",
       "      <td>61.1</td>\n",
       "      <td>55.4</td>\n",
       "      <td>75.2</td>\n",
       "    </tr>\n",
       "    <tr>\n",
       "      <th>Sample3</th>\n",
       "      <td>74.1</td>\n",
       "      <td>57.20</td>\n",
       "      <td>65.4</td>\n",
       "      <td>70.9</td>\n",
       "      <td>68.8</td>\n",
       "    </tr>\n",
       "    <tr>\n",
       "      <th>Sample4</th>\n",
       "      <td>120.9</td>\n",
       "      <td>151.90</td>\n",
       "      <td>136.0</td>\n",
       "      <td>137.7</td>\n",
       "      <td>125.8</td>\n",
       "    </tr>\n",
       "    <tr>\n",
       "      <th>Sample5</th>\n",
       "      <td>139.1</td>\n",
       "      <td>128.20</td>\n",
       "      <td>137.8</td>\n",
       "      <td>126.9</td>\n",
       "      <td>148.2</td>\n",
       "    </tr>\n",
       "  </tbody>\n",
       "</table>\n",
       "</div>"
      ],
      "text/plain": [
       "             1       2      3      4      5\n",
       "Sample1   88.6   94.90  154.4   74.9  102.2\n",
       "Sample2   67.6  102.15   61.1   55.4   75.2\n",
       "Sample3   74.1   57.20   65.4   70.9   68.8\n",
       "Sample4  120.9  151.90  136.0  137.7  125.8\n",
       "Sample5  139.1  128.20  137.8  126.9  148.2"
      ]
     },
     "execution_count": 16,
     "metadata": {},
     "output_type": "execute_result"
    }
   ],
   "source": [
    "ELBOW"
   ]
  },
  {
   "cell_type": "code",
   "execution_count": 17,
   "id": "b35ba497",
   "metadata": {},
   "outputs": [],
   "source": [
    "def mean_sd(Data):\n",
    "    \n",
    "    mean=Data.mean(axis=1)\n",
    "    sd=np.std(Data,axis=1)\n",
    "    return(pd.DataFrame([mean,sd]))"
   ]
  },
  {
   "cell_type": "code",
   "execution_count": 18,
   "id": "d090e34c",
   "metadata": {},
   "outputs": [],
   "source": [
    "A=mean_sd(ELBOW)"
   ]
  },
  {
   "cell_type": "code",
   "execution_count": 19,
   "id": "8f0d4e1f",
   "metadata": {},
   "outputs": [],
   "source": [
    "F=A.rename({0:\"Elbow_mean\",1:\"std_deviation\"})"
   ]
  },
  {
   "cell_type": "code",
   "execution_count": 20,
   "id": "1e250a34",
   "metadata": {},
   "outputs": [
    {
     "data": {
      "text/html": [
       "<div>\n",
       "<style scoped>\n",
       "    .dataframe tbody tr th:only-of-type {\n",
       "        vertical-align: middle;\n",
       "    }\n",
       "\n",
       "    .dataframe tbody tr th {\n",
       "        vertical-align: top;\n",
       "    }\n",
       "\n",
       "    .dataframe thead th {\n",
       "        text-align: right;\n",
       "    }\n",
       "</style>\n",
       "<table border=\"1\" class=\"dataframe\">\n",
       "  <thead>\n",
       "    <tr style=\"text-align: right;\">\n",
       "      <th></th>\n",
       "      <th>Sample1</th>\n",
       "      <th>Sample2</th>\n",
       "      <th>Sample3</th>\n",
       "      <th>Sample4</th>\n",
       "      <th>Sample5</th>\n",
       "    </tr>\n",
       "  </thead>\n",
       "  <tbody>\n",
       "    <tr>\n",
       "      <th>Elbow_mean</th>\n",
       "      <td>103.000000</td>\n",
       "      <td>72.290000</td>\n",
       "      <td>67.28000</td>\n",
       "      <td>134.46000</td>\n",
       "      <td>136.040000</td>\n",
       "    </tr>\n",
       "    <tr>\n",
       "      <th>std_deviation</th>\n",
       "      <td>27.221976</td>\n",
       "      <td>16.325269</td>\n",
       "      <td>5.78045</td>\n",
       "      <td>10.73212</td>\n",
       "      <td>7.814499</td>\n",
       "    </tr>\n",
       "  </tbody>\n",
       "</table>\n",
       "</div>"
      ],
      "text/plain": [
       "                  Sample1    Sample2   Sample3    Sample4     Sample5\n",
       "Elbow_mean     103.000000  72.290000  67.28000  134.46000  136.040000\n",
       "std_deviation   27.221976  16.325269   5.78045   10.73212    7.814499"
      ]
     },
     "execution_count": 20,
     "metadata": {},
     "output_type": "execute_result"
    }
   ],
   "source": [
    "F\n"
   ]
  },
  {
   "cell_type": "code",
   "execution_count": 21,
   "id": "4fc09ac8",
   "metadata": {},
   "outputs": [],
   "source": [
    "elbow=F.transpose()"
   ]
  },
  {
   "cell_type": "code",
   "execution_count": 22,
   "id": "b078bff0",
   "metadata": {},
   "outputs": [
    {
     "data": {
      "text/html": [
       "<div>\n",
       "<style scoped>\n",
       "    .dataframe tbody tr th:only-of-type {\n",
       "        vertical-align: middle;\n",
       "    }\n",
       "\n",
       "    .dataframe tbody tr th {\n",
       "        vertical-align: top;\n",
       "    }\n",
       "\n",
       "    .dataframe thead th {\n",
       "        text-align: right;\n",
       "    }\n",
       "</style>\n",
       "<table border=\"1\" class=\"dataframe\">\n",
       "  <thead>\n",
       "    <tr style=\"text-align: right;\">\n",
       "      <th></th>\n",
       "      <th>Elbow_mean</th>\n",
       "      <th>std_deviation</th>\n",
       "    </tr>\n",
       "  </thead>\n",
       "  <tbody>\n",
       "    <tr>\n",
       "      <th>Sample1</th>\n",
       "      <td>103.00</td>\n",
       "      <td>27.221976</td>\n",
       "    </tr>\n",
       "    <tr>\n",
       "      <th>Sample2</th>\n",
       "      <td>72.29</td>\n",
       "      <td>16.325269</td>\n",
       "    </tr>\n",
       "    <tr>\n",
       "      <th>Sample3</th>\n",
       "      <td>67.28</td>\n",
       "      <td>5.780450</td>\n",
       "    </tr>\n",
       "    <tr>\n",
       "      <th>Sample4</th>\n",
       "      <td>134.46</td>\n",
       "      <td>10.732120</td>\n",
       "    </tr>\n",
       "    <tr>\n",
       "      <th>Sample5</th>\n",
       "      <td>136.04</td>\n",
       "      <td>7.814499</td>\n",
       "    </tr>\n",
       "  </tbody>\n",
       "</table>\n",
       "</div>"
      ],
      "text/plain": [
       "         Elbow_mean  std_deviation\n",
       "Sample1      103.00      27.221976\n",
       "Sample2       72.29      16.325269\n",
       "Sample3       67.28       5.780450\n",
       "Sample4      134.46      10.732120\n",
       "Sample5      136.04       7.814499"
      ]
     },
     "execution_count": 22,
     "metadata": {},
     "output_type": "execute_result"
    }
   ],
   "source": [
    "elbow\n"
   ]
  },
  {
   "cell_type": "markdown",
   "id": "4581c678",
   "metadata": {},
   "source": [
    "## Leg angle\n",
    "\n",
    "This data discuss the leg angles for 5 trails for each sample.Lets find the mean leg angle for each samples"
   ]
  },
  {
   "cell_type": "code",
   "execution_count": 23,
   "id": "3a586d23",
   "metadata": {},
   "outputs": [],
   "source": [
    "leg=pd.DataFrame({\"1\":[91,91.1,90.01,82.74,78.41],\"2\":[94.94,94.94,94.94,94.94,94.94],\"3\":[100.48,110.83,105.01,112.9,99.45],\"4\":[94.9,94.9,94.9,94.9,94.9],\"5\":[114.14,114.14,114.14,114.14,114.14\n",
    "]},index=[\"Sample1\",\"Sample2\",\"Sample3\",\"Sample4\",\"Sample5\"])"
   ]
  },
  {
   "cell_type": "code",
   "execution_count": 24,
   "id": "24602088",
   "metadata": {},
   "outputs": [],
   "source": [
    "X=leg.transpose()"
   ]
  },
  {
   "cell_type": "code",
   "execution_count": 25,
   "id": "c6d75194",
   "metadata": {},
   "outputs": [
    {
     "data": {
      "text/html": [
       "<div>\n",
       "<style scoped>\n",
       "    .dataframe tbody tr th:only-of-type {\n",
       "        vertical-align: middle;\n",
       "    }\n",
       "\n",
       "    .dataframe tbody tr th {\n",
       "        vertical-align: top;\n",
       "    }\n",
       "\n",
       "    .dataframe thead th {\n",
       "        text-align: right;\n",
       "    }\n",
       "</style>\n",
       "<table border=\"1\" class=\"dataframe\">\n",
       "  <thead>\n",
       "    <tr style=\"text-align: right;\">\n",
       "      <th></th>\n",
       "      <th>Sample1</th>\n",
       "      <th>Sample2</th>\n",
       "      <th>Sample3</th>\n",
       "      <th>Sample4</th>\n",
       "      <th>Sample5</th>\n",
       "    </tr>\n",
       "  </thead>\n",
       "  <tbody>\n",
       "    <tr>\n",
       "      <th>1</th>\n",
       "      <td>91.00</td>\n",
       "      <td>91.10</td>\n",
       "      <td>90.01</td>\n",
       "      <td>82.74</td>\n",
       "      <td>78.41</td>\n",
       "    </tr>\n",
       "    <tr>\n",
       "      <th>2</th>\n",
       "      <td>94.94</td>\n",
       "      <td>94.94</td>\n",
       "      <td>94.94</td>\n",
       "      <td>94.94</td>\n",
       "      <td>94.94</td>\n",
       "    </tr>\n",
       "    <tr>\n",
       "      <th>3</th>\n",
       "      <td>100.48</td>\n",
       "      <td>110.83</td>\n",
       "      <td>105.01</td>\n",
       "      <td>112.90</td>\n",
       "      <td>99.45</td>\n",
       "    </tr>\n",
       "    <tr>\n",
       "      <th>4</th>\n",
       "      <td>94.90</td>\n",
       "      <td>94.90</td>\n",
       "      <td>94.90</td>\n",
       "      <td>94.90</td>\n",
       "      <td>94.90</td>\n",
       "    </tr>\n",
       "    <tr>\n",
       "      <th>5</th>\n",
       "      <td>114.14</td>\n",
       "      <td>114.14</td>\n",
       "      <td>114.14</td>\n",
       "      <td>114.14</td>\n",
       "      <td>114.14</td>\n",
       "    </tr>\n",
       "  </tbody>\n",
       "</table>\n",
       "</div>"
      ],
      "text/plain": [
       "   Sample1  Sample2  Sample3  Sample4  Sample5\n",
       "1    91.00    91.10    90.01    82.74    78.41\n",
       "2    94.94    94.94    94.94    94.94    94.94\n",
       "3   100.48   110.83   105.01   112.90    99.45\n",
       "4    94.90    94.90    94.90    94.90    94.90\n",
       "5   114.14   114.14   114.14   114.14   114.14"
      ]
     },
     "execution_count": 25,
     "metadata": {},
     "output_type": "execute_result"
    }
   ],
   "source": [
    "X"
   ]
  },
  {
   "cell_type": "code",
   "execution_count": 26,
   "id": "aeed3961",
   "metadata": {},
   "outputs": [],
   "source": [
    "Z=X.rename(columns={\"Sample1\":\"1\",\"Sample2\":\"2\",\"Sample3\":\"3\",\"Sample4\":\"4\",\"Sample5\":\"5\"})"
   ]
  },
  {
   "cell_type": "code",
   "execution_count": 27,
   "id": "ee4f6ba0",
   "metadata": {},
   "outputs": [],
   "source": [
    "LEG=Z.rename({\"1\":\"Sample1\",\"2\":\"Sample2\",\"3\":\"Sample3\",\"4\":\"Sample4\",\"5\":\"Sample5\"})"
   ]
  },
  {
   "cell_type": "code",
   "execution_count": 28,
   "id": "657015b8",
   "metadata": {},
   "outputs": [
    {
     "data": {
      "text/html": [
       "<div>\n",
       "<style scoped>\n",
       "    .dataframe tbody tr th:only-of-type {\n",
       "        vertical-align: middle;\n",
       "    }\n",
       "\n",
       "    .dataframe tbody tr th {\n",
       "        vertical-align: top;\n",
       "    }\n",
       "\n",
       "    .dataframe thead th {\n",
       "        text-align: right;\n",
       "    }\n",
       "</style>\n",
       "<table border=\"1\" class=\"dataframe\">\n",
       "  <thead>\n",
       "    <tr style=\"text-align: right;\">\n",
       "      <th></th>\n",
       "      <th>Sample1</th>\n",
       "      <th>Sample2</th>\n",
       "      <th>Sample3</th>\n",
       "      <th>Sample4</th>\n",
       "      <th>Sample5</th>\n",
       "    </tr>\n",
       "  </thead>\n",
       "  <tbody>\n",
       "    <tr>\n",
       "      <th>0</th>\n",
       "      <td>86.652000</td>\n",
       "      <td>94.94</td>\n",
       "      <td>105.734000</td>\n",
       "      <td>94.9</td>\n",
       "      <td>1.141400e+02</td>\n",
       "    </tr>\n",
       "    <tr>\n",
       "      <th>1</th>\n",
       "      <td>5.161401</td>\n",
       "      <td>0.00</td>\n",
       "      <td>5.384016</td>\n",
       "      <td>0.0</td>\n",
       "      <td>1.421085e-14</td>\n",
       "    </tr>\n",
       "  </tbody>\n",
       "</table>\n",
       "</div>"
      ],
      "text/plain": [
       "     Sample1  Sample2     Sample3  Sample4       Sample5\n",
       "0  86.652000    94.94  105.734000     94.9  1.141400e+02\n",
       "1   5.161401     0.00    5.384016      0.0  1.421085e-14"
      ]
     },
     "execution_count": 28,
     "metadata": {},
     "output_type": "execute_result"
    }
   ],
   "source": [
    "E=mean_sd(LEG)\n",
    "E"
   ]
  },
  {
   "cell_type": "code",
   "execution_count": 29,
   "id": "c2b2b4b0",
   "metadata": {},
   "outputs": [],
   "source": [
    "R=E.rename({0:\"Leg_mean\",1:\"std_deviation\"})"
   ]
  },
  {
   "cell_type": "code",
   "execution_count": 30,
   "id": "be9d3940",
   "metadata": {},
   "outputs": [
    {
     "data": {
      "text/html": [
       "<div>\n",
       "<style scoped>\n",
       "    .dataframe tbody tr th:only-of-type {\n",
       "        vertical-align: middle;\n",
       "    }\n",
       "\n",
       "    .dataframe tbody tr th {\n",
       "        vertical-align: top;\n",
       "    }\n",
       "\n",
       "    .dataframe thead th {\n",
       "        text-align: right;\n",
       "    }\n",
       "</style>\n",
       "<table border=\"1\" class=\"dataframe\">\n",
       "  <thead>\n",
       "    <tr style=\"text-align: right;\">\n",
       "      <th></th>\n",
       "      <th>Sample1</th>\n",
       "      <th>Sample2</th>\n",
       "      <th>Sample3</th>\n",
       "      <th>Sample4</th>\n",
       "      <th>Sample5</th>\n",
       "    </tr>\n",
       "  </thead>\n",
       "  <tbody>\n",
       "    <tr>\n",
       "      <th>Leg_mean</th>\n",
       "      <td>86.652000</td>\n",
       "      <td>94.94</td>\n",
       "      <td>105.734000</td>\n",
       "      <td>94.9</td>\n",
       "      <td>1.141400e+02</td>\n",
       "    </tr>\n",
       "    <tr>\n",
       "      <th>std_deviation</th>\n",
       "      <td>5.161401</td>\n",
       "      <td>0.00</td>\n",
       "      <td>5.384016</td>\n",
       "      <td>0.0</td>\n",
       "      <td>1.421085e-14</td>\n",
       "    </tr>\n",
       "  </tbody>\n",
       "</table>\n",
       "</div>"
      ],
      "text/plain": [
       "                 Sample1  Sample2     Sample3  Sample4       Sample5\n",
       "Leg_mean       86.652000    94.94  105.734000     94.9  1.141400e+02\n",
       "std_deviation   5.161401     0.00    5.384016      0.0  1.421085e-14"
      ]
     },
     "execution_count": 30,
     "metadata": {},
     "output_type": "execute_result"
    }
   ],
   "source": [
    "R"
   ]
  },
  {
   "cell_type": "code",
   "execution_count": 31,
   "id": "bf6b2d9a",
   "metadata": {},
   "outputs": [],
   "source": [
    "Leg=R.transpose()"
   ]
  },
  {
   "cell_type": "code",
   "execution_count": 32,
   "id": "04c7a10d",
   "metadata": {},
   "outputs": [
    {
     "data": {
      "text/html": [
       "<div>\n",
       "<style scoped>\n",
       "    .dataframe tbody tr th:only-of-type {\n",
       "        vertical-align: middle;\n",
       "    }\n",
       "\n",
       "    .dataframe tbody tr th {\n",
       "        vertical-align: top;\n",
       "    }\n",
       "\n",
       "    .dataframe thead th {\n",
       "        text-align: right;\n",
       "    }\n",
       "</style>\n",
       "<table border=\"1\" class=\"dataframe\">\n",
       "  <thead>\n",
       "    <tr style=\"text-align: right;\">\n",
       "      <th></th>\n",
       "      <th>Leg_mean</th>\n",
       "      <th>std_deviation</th>\n",
       "    </tr>\n",
       "  </thead>\n",
       "  <tbody>\n",
       "    <tr>\n",
       "      <th>Sample1</th>\n",
       "      <td>86.652</td>\n",
       "      <td>5.161401e+00</td>\n",
       "    </tr>\n",
       "    <tr>\n",
       "      <th>Sample2</th>\n",
       "      <td>94.940</td>\n",
       "      <td>0.000000e+00</td>\n",
       "    </tr>\n",
       "    <tr>\n",
       "      <th>Sample3</th>\n",
       "      <td>105.734</td>\n",
       "      <td>5.384016e+00</td>\n",
       "    </tr>\n",
       "    <tr>\n",
       "      <th>Sample4</th>\n",
       "      <td>94.900</td>\n",
       "      <td>0.000000e+00</td>\n",
       "    </tr>\n",
       "    <tr>\n",
       "      <th>Sample5</th>\n",
       "      <td>114.140</td>\n",
       "      <td>1.421085e-14</td>\n",
       "    </tr>\n",
       "  </tbody>\n",
       "</table>\n",
       "</div>"
      ],
      "text/plain": [
       "         Leg_mean  std_deviation\n",
       "Sample1    86.652   5.161401e+00\n",
       "Sample2    94.940   0.000000e+00\n",
       "Sample3   105.734   5.384016e+00\n",
       "Sample4    94.900   0.000000e+00\n",
       "Sample5   114.140   1.421085e-14"
      ]
     },
     "execution_count": 32,
     "metadata": {},
     "output_type": "execute_result"
    }
   ],
   "source": [
    "Leg"
   ]
  },
  {
   "cell_type": "markdown",
   "id": "4bb83a3f",
   "metadata": {},
   "source": [
    "## Shoulder angle\n",
    "\n",
    "This data discuss the Shoulder angles for 5 trails for each sample.Lets find the mean shoulder angle for each samples"
   ]
  },
  {
   "cell_type": "code",
   "execution_count": 39,
   "id": "decd3ea9",
   "metadata": {},
   "outputs": [],
   "source": [
    "shoulder=pd.read_csv(\"C:/Users/swani/OneDrive/Documents/S.csv\")\n",
    "v=shoulder.rename({0:\"Sample1\",1:\"Sample2\",2:\"Sample3\",3:\"Sample4\",4:\"Sample5\"})"
   ]
  },
  {
   "cell_type": "code",
   "execution_count": 40,
   "id": "463ce60d",
   "metadata": {},
   "outputs": [],
   "source": [
    "P=mean_sd(v)"
   ]
  },
  {
   "cell_type": "code",
   "execution_count": 41,
   "id": "1a0c91f0",
   "metadata": {},
   "outputs": [
    {
     "data": {
      "text/html": [
       "<div>\n",
       "<style scoped>\n",
       "    .dataframe tbody tr th:only-of-type {\n",
       "        vertical-align: middle;\n",
       "    }\n",
       "\n",
       "    .dataframe tbody tr th {\n",
       "        vertical-align: top;\n",
       "    }\n",
       "\n",
       "    .dataframe thead th {\n",
       "        text-align: right;\n",
       "    }\n",
       "</style>\n",
       "<table border=\"1\" class=\"dataframe\">\n",
       "  <thead>\n",
       "    <tr style=\"text-align: right;\">\n",
       "      <th></th>\n",
       "      <th>1</th>\n",
       "      <th>2</th>\n",
       "      <th>3</th>\n",
       "      <th>4</th>\n",
       "      <th>5</th>\n",
       "    </tr>\n",
       "  </thead>\n",
       "  <tbody>\n",
       "    <tr>\n",
       "      <th>Sample1</th>\n",
       "      <td>117.6</td>\n",
       "      <td>126.6</td>\n",
       "      <td>NaN</td>\n",
       "      <td>94.80</td>\n",
       "      <td>107.40</td>\n",
       "    </tr>\n",
       "    <tr>\n",
       "      <th>Sample2</th>\n",
       "      <td>123.2</td>\n",
       "      <td>112.9</td>\n",
       "      <td>92.8</td>\n",
       "      <td>116.38</td>\n",
       "      <td>94.38</td>\n",
       "    </tr>\n",
       "    <tr>\n",
       "      <th>Sample3</th>\n",
       "      <td>109.1</td>\n",
       "      <td>106.2</td>\n",
       "      <td>126.2</td>\n",
       "      <td>100.40</td>\n",
       "      <td>105.20</td>\n",
       "    </tr>\n",
       "    <tr>\n",
       "      <th>Sample4</th>\n",
       "      <td>57.5</td>\n",
       "      <td>107.4</td>\n",
       "      <td>107.0</td>\n",
       "      <td>113.50</td>\n",
       "      <td>80.50</td>\n",
       "    </tr>\n",
       "    <tr>\n",
       "      <th>Sample5</th>\n",
       "      <td>76.2</td>\n",
       "      <td>70.9</td>\n",
       "      <td>50.7</td>\n",
       "      <td>55.40</td>\n",
       "      <td>76.80</td>\n",
       "    </tr>\n",
       "  </tbody>\n",
       "</table>\n",
       "</div>"
      ],
      "text/plain": [
       "             1      2      3       4       5\n",
       "Sample1  117.6  126.6    NaN   94.80  107.40\n",
       "Sample2  123.2  112.9   92.8  116.38   94.38\n",
       "Sample3  109.1  106.2  126.2  100.40  105.20\n",
       "Sample4   57.5  107.4  107.0  113.50   80.50\n",
       "Sample5   76.2   70.9   50.7   55.40   76.80"
      ]
     },
     "execution_count": 41,
     "metadata": {},
     "output_type": "execute_result"
    }
   ],
   "source": [
    "v"
   ]
  },
  {
   "cell_type": "code",
   "execution_count": 42,
   "id": "e7830658",
   "metadata": {},
   "outputs": [],
   "source": [
    "Shoulder=P.rename({0:\"Shoulder_mean\",1:\"std_deviation\"})"
   ]
  },
  {
   "cell_type": "code",
   "execution_count": 43,
   "id": "afb517ec",
   "metadata": {
    "scrolled": true
   },
   "outputs": [
    {
     "data": {
      "text/html": [
       "<div>\n",
       "<style scoped>\n",
       "    .dataframe tbody tr th:only-of-type {\n",
       "        vertical-align: middle;\n",
       "    }\n",
       "\n",
       "    .dataframe tbody tr th {\n",
       "        vertical-align: top;\n",
       "    }\n",
       "\n",
       "    .dataframe thead th {\n",
       "        text-align: right;\n",
       "    }\n",
       "</style>\n",
       "<table border=\"1\" class=\"dataframe\">\n",
       "  <thead>\n",
       "    <tr style=\"text-align: right;\">\n",
       "      <th></th>\n",
       "      <th>Sample1</th>\n",
       "      <th>Sample2</th>\n",
       "      <th>Sample3</th>\n",
       "      <th>Sample4</th>\n",
       "      <th>Sample5</th>\n",
       "    </tr>\n",
       "  </thead>\n",
       "  <tbody>\n",
       "    <tr>\n",
       "      <th>Shoulder_mean</th>\n",
       "      <td>111.600000</td>\n",
       "      <td>107.932000</td>\n",
       "      <td>109.420000</td>\n",
       "      <td>93.180000</td>\n",
       "      <td>66.00000</td>\n",
       "    </tr>\n",
       "    <tr>\n",
       "      <th>std_deviation</th>\n",
       "      <td>11.841453</td>\n",
       "      <td>12.180277</td>\n",
       "      <td>8.845428</td>\n",
       "      <td>21.165765</td>\n",
       "      <td>10.87327</td>\n",
       "    </tr>\n",
       "  </tbody>\n",
       "</table>\n",
       "</div>"
      ],
      "text/plain": [
       "                  Sample1     Sample2     Sample3    Sample4   Sample5\n",
       "Shoulder_mean  111.600000  107.932000  109.420000  93.180000  66.00000\n",
       "std_deviation   11.841453   12.180277    8.845428  21.165765  10.87327"
      ]
     },
     "execution_count": 43,
     "metadata": {},
     "output_type": "execute_result"
    }
   ],
   "source": [
    "Shoulder"
   ]
  },
  {
   "cell_type": "code",
   "execution_count": 44,
   "id": "b99b8e08",
   "metadata": {},
   "outputs": [],
   "source": [
    "Sh=Shoulder.transpose()"
   ]
  },
  {
   "cell_type": "code",
   "execution_count": 586,
   "id": "e81a982c",
   "metadata": {},
   "outputs": [
    {
     "data": {
      "text/html": [
       "<div>\n",
       "<style scoped>\n",
       "    .dataframe tbody tr th:only-of-type {\n",
       "        vertical-align: middle;\n",
       "    }\n",
       "\n",
       "    .dataframe tbody tr th {\n",
       "        vertical-align: top;\n",
       "    }\n",
       "\n",
       "    .dataframe thead th {\n",
       "        text-align: right;\n",
       "    }\n",
       "</style>\n",
       "<table border=\"1\" class=\"dataframe\">\n",
       "  <thead>\n",
       "    <tr style=\"text-align: right;\">\n",
       "      <th></th>\n",
       "      <th>Shoulder_mean</th>\n",
       "      <th>std_deviation</th>\n",
       "    </tr>\n",
       "  </thead>\n",
       "  <tbody>\n",
       "    <tr>\n",
       "      <th>Sample1</th>\n",
       "      <td>111.600</td>\n",
       "      <td>11.841453</td>\n",
       "    </tr>\n",
       "    <tr>\n",
       "      <th>Sample2</th>\n",
       "      <td>107.932</td>\n",
       "      <td>12.180277</td>\n",
       "    </tr>\n",
       "    <tr>\n",
       "      <th>Sample3</th>\n",
       "      <td>109.420</td>\n",
       "      <td>8.845428</td>\n",
       "    </tr>\n",
       "    <tr>\n",
       "      <th>Sample4</th>\n",
       "      <td>93.180</td>\n",
       "      <td>21.165765</td>\n",
       "    </tr>\n",
       "    <tr>\n",
       "      <th>Sample5</th>\n",
       "      <td>66.000</td>\n",
       "      <td>10.873270</td>\n",
       "    </tr>\n",
       "  </tbody>\n",
       "</table>\n",
       "</div>"
      ],
      "text/plain": [
       "         Shoulder_mean  std_deviation\n",
       "Sample1        111.600      11.841453\n",
       "Sample2        107.932      12.180277\n",
       "Sample3        109.420       8.845428\n",
       "Sample4         93.180      21.165765\n",
       "Sample5         66.000      10.873270"
      ]
     },
     "execution_count": 586,
     "metadata": {},
     "output_type": "execute_result"
    }
   ],
   "source": [
    "Sh"
   ]
  },
  {
   "cell_type": "markdown",
   "id": "46936b26",
   "metadata": {},
   "source": [
    "## Ankle\"s angle\n",
    "\n",
    "This data discuss the Ankle's angles for 5 trails for each sample.Lets find the mean Ankle angle for each samples"
   ]
  },
  {
   "cell_type": "code",
   "execution_count": 45,
   "id": "f42d1e58",
   "metadata": {},
   "outputs": [],
   "source": [
    "ankle=pd.read_csv(\"C:/Users/swani/OneDrive/Documents/ankle.csv\")\n",
    "H=ankle.rename({0:\"Sample1\",1:\"Sample2\",2:\"Sample3\",3:\"Sample4\",4:\"Sample5\"})\n",
    "L=mean_sd(H)\n",
    "Ankle=L.rename({0:\"ankle_mean\",1:\"std_deviation\"}).transpose()"
   ]
  },
  {
   "cell_type": "code",
   "execution_count": 48,
   "id": "93409c0f",
   "metadata": {},
   "outputs": [
    {
     "data": {
      "text/html": [
       "<div>\n",
       "<style scoped>\n",
       "    .dataframe tbody tr th:only-of-type {\n",
       "        vertical-align: middle;\n",
       "    }\n",
       "\n",
       "    .dataframe tbody tr th {\n",
       "        vertical-align: top;\n",
       "    }\n",
       "\n",
       "    .dataframe thead th {\n",
       "        text-align: right;\n",
       "    }\n",
       "</style>\n",
       "<table border=\"1\" class=\"dataframe\">\n",
       "  <thead>\n",
       "    <tr style=\"text-align: right;\">\n",
       "      <th></th>\n",
       "      <th>1</th>\n",
       "      <th>2</th>\n",
       "      <th>3</th>\n",
       "      <th>4</th>\n",
       "      <th>5</th>\n",
       "    </tr>\n",
       "  </thead>\n",
       "  <tbody>\n",
       "    <tr>\n",
       "      <th>Sample1</th>\n",
       "      <td>109.0</td>\n",
       "      <td>107.5</td>\n",
       "      <td>88.8</td>\n",
       "      <td>96.1</td>\n",
       "      <td>106.90</td>\n",
       "    </tr>\n",
       "    <tr>\n",
       "      <th>Sample2</th>\n",
       "      <td>102.4</td>\n",
       "      <td>90.0</td>\n",
       "      <td>87.1</td>\n",
       "      <td>83.7</td>\n",
       "      <td>88.80</td>\n",
       "    </tr>\n",
       "    <tr>\n",
       "      <th>Sample3</th>\n",
       "      <td>78.7</td>\n",
       "      <td>113.6</td>\n",
       "      <td>88.0</td>\n",
       "      <td>94.3</td>\n",
       "      <td>96.35</td>\n",
       "    </tr>\n",
       "    <tr>\n",
       "      <th>Sample4</th>\n",
       "      <td>69.6</td>\n",
       "      <td>102.1</td>\n",
       "      <td>64.5</td>\n",
       "      <td>94.7</td>\n",
       "      <td>78.30</td>\n",
       "    </tr>\n",
       "    <tr>\n",
       "      <th>Sample5</th>\n",
       "      <td>73.5</td>\n",
       "      <td>70.4</td>\n",
       "      <td>67.0</td>\n",
       "      <td>73.1</td>\n",
       "      <td>49.70</td>\n",
       "    </tr>\n",
       "  </tbody>\n",
       "</table>\n",
       "</div>"
      ],
      "text/plain": [
       "             1      2     3     4       5\n",
       "Sample1  109.0  107.5  88.8  96.1  106.90\n",
       "Sample2  102.4   90.0  87.1  83.7   88.80\n",
       "Sample3   78.7  113.6  88.0  94.3   96.35\n",
       "Sample4   69.6  102.1  64.5  94.7   78.30\n",
       "Sample5   73.5   70.4  67.0  73.1   49.70"
      ]
     },
     "execution_count": 48,
     "metadata": {},
     "output_type": "execute_result"
    }
   ],
   "source": [
    "H"
   ]
  },
  {
   "cell_type": "code",
   "execution_count": 49,
   "id": "b04cd9a6",
   "metadata": {},
   "outputs": [
    {
     "data": {
      "text/html": [
       "<div>\n",
       "<style scoped>\n",
       "    .dataframe tbody tr th:only-of-type {\n",
       "        vertical-align: middle;\n",
       "    }\n",
       "\n",
       "    .dataframe tbody tr th {\n",
       "        vertical-align: top;\n",
       "    }\n",
       "\n",
       "    .dataframe thead th {\n",
       "        text-align: right;\n",
       "    }\n",
       "</style>\n",
       "<table border=\"1\" class=\"dataframe\">\n",
       "  <thead>\n",
       "    <tr style=\"text-align: right;\">\n",
       "      <th></th>\n",
       "      <th>ankle_mean</th>\n",
       "      <th>std_deviation</th>\n",
       "    </tr>\n",
       "  </thead>\n",
       "  <tbody>\n",
       "    <tr>\n",
       "      <th>Sample1</th>\n",
       "      <td>101.66</td>\n",
       "      <td>7.895974</td>\n",
       "    </tr>\n",
       "    <tr>\n",
       "      <th>Sample2</th>\n",
       "      <td>90.40</td>\n",
       "      <td>6.363961</td>\n",
       "    </tr>\n",
       "    <tr>\n",
       "      <th>Sample3</th>\n",
       "      <td>94.19</td>\n",
       "      <td>11.486357</td>\n",
       "    </tr>\n",
       "    <tr>\n",
       "      <th>Sample4</th>\n",
       "      <td>81.84</td>\n",
       "      <td>14.414382</td>\n",
       "    </tr>\n",
       "    <tr>\n",
       "      <th>Sample5</th>\n",
       "      <td>66.74</td>\n",
       "      <td>8.831444</td>\n",
       "    </tr>\n",
       "  </tbody>\n",
       "</table>\n",
       "</div>"
      ],
      "text/plain": [
       "         ankle_mean  std_deviation\n",
       "Sample1      101.66       7.895974\n",
       "Sample2       90.40       6.363961\n",
       "Sample3       94.19      11.486357\n",
       "Sample4       81.84      14.414382\n",
       "Sample5       66.74       8.831444"
      ]
     },
     "execution_count": 49,
     "metadata": {},
     "output_type": "execute_result"
    }
   ],
   "source": [
    "Ankle"
   ]
  },
  {
   "cell_type": "code",
   "execution_count": 52,
   "id": "e1a8281b",
   "metadata": {},
   "outputs": [],
   "source": [
    "knee=pd.read_csv(\"C:/Users/swani/OneDrive/Documents/knee.csv\")\n",
    "G=knee.rename({0:\"Sample1\",1:\"Sample2\",2:\"Sample3\",3:\"Sample4\",4:\"Sample5\"})\n",
    "B=mean_sd(G)\n",
    "Knee=B.rename({0:\"knee_mean\",1:\"std_deviation\"}).transpose()"
   ]
  },
  {
   "cell_type": "code",
   "execution_count": 53,
   "id": "cf3c8705",
   "metadata": {},
   "outputs": [
    {
     "data": {
      "text/html": [
       "<div>\n",
       "<style scoped>\n",
       "    .dataframe tbody tr th:only-of-type {\n",
       "        vertical-align: middle;\n",
       "    }\n",
       "\n",
       "    .dataframe tbody tr th {\n",
       "        vertical-align: top;\n",
       "    }\n",
       "\n",
       "    .dataframe thead th {\n",
       "        text-align: right;\n",
       "    }\n",
       "</style>\n",
       "<table border=\"1\" class=\"dataframe\">\n",
       "  <thead>\n",
       "    <tr style=\"text-align: right;\">\n",
       "      <th></th>\n",
       "      <th>1</th>\n",
       "      <th>2</th>\n",
       "      <th>3</th>\n",
       "      <th>4</th>\n",
       "      <th>5</th>\n",
       "    </tr>\n",
       "  </thead>\n",
       "  <tbody>\n",
       "    <tr>\n",
       "      <th>Sample1</th>\n",
       "      <td>129.1</td>\n",
       "      <td>131.3</td>\n",
       "      <td>127.1</td>\n",
       "      <td>129.1</td>\n",
       "      <td>131.0</td>\n",
       "    </tr>\n",
       "    <tr>\n",
       "      <th>Sample2</th>\n",
       "      <td>130.1</td>\n",
       "      <td>129.2</td>\n",
       "      <td>127.8</td>\n",
       "      <td>125.0</td>\n",
       "      <td>128.1</td>\n",
       "    </tr>\n",
       "    <tr>\n",
       "      <th>Sample3</th>\n",
       "      <td>143.1</td>\n",
       "      <td>141.4</td>\n",
       "      <td>145.0</td>\n",
       "      <td>140.0</td>\n",
       "      <td>141.3</td>\n",
       "    </tr>\n",
       "    <tr>\n",
       "      <th>Sample4</th>\n",
       "      <td>75.7</td>\n",
       "      <td>75.2</td>\n",
       "      <td>67.3</td>\n",
       "      <td>102.5</td>\n",
       "      <td>88.4</td>\n",
       "    </tr>\n",
       "    <tr>\n",
       "      <th>Sample5</th>\n",
       "      <td>81.6</td>\n",
       "      <td>95.0</td>\n",
       "      <td>79.0</td>\n",
       "      <td>93.2</td>\n",
       "      <td>108.2</td>\n",
       "    </tr>\n",
       "  </tbody>\n",
       "</table>\n",
       "</div>"
      ],
      "text/plain": [
       "             1      2      3      4      5\n",
       "Sample1  129.1  131.3  127.1  129.1  131.0\n",
       "Sample2  130.1  129.2  127.8  125.0  128.1\n",
       "Sample3  143.1  141.4  145.0  140.0  141.3\n",
       "Sample4   75.7   75.2   67.3  102.5   88.4\n",
       "Sample5   81.6   95.0   79.0   93.2  108.2"
      ]
     },
     "execution_count": 53,
     "metadata": {},
     "output_type": "execute_result"
    }
   ],
   "source": [
    "G"
   ]
  },
  {
   "cell_type": "code",
   "execution_count": 54,
   "id": "6233ac0d",
   "metadata": {},
   "outputs": [
    {
     "data": {
      "text/html": [
       "<div>\n",
       "<style scoped>\n",
       "    .dataframe tbody tr th:only-of-type {\n",
       "        vertical-align: middle;\n",
       "    }\n",
       "\n",
       "    .dataframe tbody tr th {\n",
       "        vertical-align: top;\n",
       "    }\n",
       "\n",
       "    .dataframe thead th {\n",
       "        text-align: right;\n",
       "    }\n",
       "</style>\n",
       "<table border=\"1\" class=\"dataframe\">\n",
       "  <thead>\n",
       "    <tr style=\"text-align: right;\">\n",
       "      <th></th>\n",
       "      <th>knee_mean</th>\n",
       "      <th>std_deviation</th>\n",
       "    </tr>\n",
       "  </thead>\n",
       "  <tbody>\n",
       "    <tr>\n",
       "      <th>Sample1</th>\n",
       "      <td>129.52</td>\n",
       "      <td>1.521052</td>\n",
       "    </tr>\n",
       "    <tr>\n",
       "      <th>Sample2</th>\n",
       "      <td>128.04</td>\n",
       "      <td>1.725804</td>\n",
       "    </tr>\n",
       "    <tr>\n",
       "      <th>Sample3</th>\n",
       "      <td>142.16</td>\n",
       "      <td>1.728120</td>\n",
       "    </tr>\n",
       "    <tr>\n",
       "      <th>Sample4</th>\n",
       "      <td>81.82</td>\n",
       "      <td>12.353688</td>\n",
       "    </tr>\n",
       "    <tr>\n",
       "      <th>Sample5</th>\n",
       "      <td>91.40</td>\n",
       "      <td>10.471294</td>\n",
       "    </tr>\n",
       "  </tbody>\n",
       "</table>\n",
       "</div>"
      ],
      "text/plain": [
       "         knee_mean  std_deviation\n",
       "Sample1     129.52       1.521052\n",
       "Sample2     128.04       1.725804\n",
       "Sample3     142.16       1.728120\n",
       "Sample4      81.82      12.353688\n",
       "Sample5      91.40      10.471294"
      ]
     },
     "execution_count": 54,
     "metadata": {},
     "output_type": "execute_result"
    }
   ],
   "source": [
    "Knee"
   ]
  },
  {
   "cell_type": "code",
   "execution_count": 56,
   "id": "21774de7",
   "metadata": {},
   "outputs": [],
   "source": [
    "Plant=pd.read_csv(\"C:/Users/swani/OneDrive/Documents/plant.csv\")\n",
    "J=Plant.rename({0:\"Sample1\",1:\"Sample2\",2:\"Sample3\",3:\"Sample4\",4:\"Sample5\"})\n",
    "Q=mean_sd(J)\n",
    "plant=Q.rename({0:\"plantmean\",1:\"std_deviation\"}).transpose()"
   ]
  },
  {
   "cell_type": "code",
   "execution_count": 58,
   "id": "74f33d3c",
   "metadata": {},
   "outputs": [
    {
     "data": {
      "text/html": [
       "<div>\n",
       "<style scoped>\n",
       "    .dataframe tbody tr th:only-of-type {\n",
       "        vertical-align: middle;\n",
       "    }\n",
       "\n",
       "    .dataframe tbody tr th {\n",
       "        vertical-align: top;\n",
       "    }\n",
       "\n",
       "    .dataframe thead th {\n",
       "        text-align: right;\n",
       "    }\n",
       "</style>\n",
       "<table border=\"1\" class=\"dataframe\">\n",
       "  <thead>\n",
       "    <tr style=\"text-align: right;\">\n",
       "      <th></th>\n",
       "      <th>1</th>\n",
       "      <th>2</th>\n",
       "      <th>3</th>\n",
       "      <th>4</th>\n",
       "      <th>5</th>\n",
       "    </tr>\n",
       "  </thead>\n",
       "  <tbody>\n",
       "    <tr>\n",
       "      <th>Sample1</th>\n",
       "      <td>123.9</td>\n",
       "      <td>113.0</td>\n",
       "      <td>114.3</td>\n",
       "      <td>116.3</td>\n",
       "      <td>123.0</td>\n",
       "    </tr>\n",
       "    <tr>\n",
       "      <th>Sample2</th>\n",
       "      <td>106.1</td>\n",
       "      <td>146.3</td>\n",
       "      <td>132.6</td>\n",
       "      <td>136.8</td>\n",
       "      <td>111.0</td>\n",
       "    </tr>\n",
       "    <tr>\n",
       "      <th>Sample3</th>\n",
       "      <td>156.0</td>\n",
       "      <td>147.2</td>\n",
       "      <td>149.2</td>\n",
       "      <td>158.4</td>\n",
       "      <td>154.2</td>\n",
       "    </tr>\n",
       "    <tr>\n",
       "      <th>Sample4</th>\n",
       "      <td>149.5</td>\n",
       "      <td>144.1</td>\n",
       "      <td>138.9</td>\n",
       "      <td>170.8</td>\n",
       "      <td>135.0</td>\n",
       "    </tr>\n",
       "    <tr>\n",
       "      <th>Sample5</th>\n",
       "      <td>144.1</td>\n",
       "      <td>157.3</td>\n",
       "      <td>159.8</td>\n",
       "      <td>171.0</td>\n",
       "      <td>163.4</td>\n",
       "    </tr>\n",
       "  </tbody>\n",
       "</table>\n",
       "</div>"
      ],
      "text/plain": [
       "             1      2      3      4      5\n",
       "Sample1  123.9  113.0  114.3  116.3  123.0\n",
       "Sample2  106.1  146.3  132.6  136.8  111.0\n",
       "Sample3  156.0  147.2  149.2  158.4  154.2\n",
       "Sample4  149.5  144.1  138.9  170.8  135.0\n",
       "Sample5  144.1  157.3  159.8  171.0  163.4"
      ]
     },
     "execution_count": 58,
     "metadata": {},
     "output_type": "execute_result"
    }
   ],
   "source": [
    "J"
   ]
  },
  {
   "cell_type": "code",
   "execution_count": 59,
   "id": "43e2f3d9",
   "metadata": {},
   "outputs": [
    {
     "data": {
      "text/html": [
       "<div>\n",
       "<style scoped>\n",
       "    .dataframe tbody tr th:only-of-type {\n",
       "        vertical-align: middle;\n",
       "    }\n",
       "\n",
       "    .dataframe tbody tr th {\n",
       "        vertical-align: top;\n",
       "    }\n",
       "\n",
       "    .dataframe thead th {\n",
       "        text-align: right;\n",
       "    }\n",
       "</style>\n",
       "<table border=\"1\" class=\"dataframe\">\n",
       "  <thead>\n",
       "    <tr style=\"text-align: right;\">\n",
       "      <th></th>\n",
       "      <th>plantmean</th>\n",
       "      <th>std_deviation</th>\n",
       "    </tr>\n",
       "  </thead>\n",
       "  <tbody>\n",
       "    <tr>\n",
       "      <th>Sample1</th>\n",
       "      <td>118.10</td>\n",
       "      <td>4.502000</td>\n",
       "    </tr>\n",
       "    <tr>\n",
       "      <th>Sample2</th>\n",
       "      <td>126.56</td>\n",
       "      <td>15.438471</td>\n",
       "    </tr>\n",
       "    <tr>\n",
       "      <th>Sample3</th>\n",
       "      <td>153.00</td>\n",
       "      <td>4.187601</td>\n",
       "    </tr>\n",
       "    <tr>\n",
       "      <th>Sample4</th>\n",
       "      <td>147.66</td>\n",
       "      <td>12.558121</td>\n",
       "    </tr>\n",
       "    <tr>\n",
       "      <th>Sample5</th>\n",
       "      <td>159.12</td>\n",
       "      <td>8.818481</td>\n",
       "    </tr>\n",
       "  </tbody>\n",
       "</table>\n",
       "</div>"
      ],
      "text/plain": [
       "         plantmean  std_deviation\n",
       "Sample1     118.10       4.502000\n",
       "Sample2     126.56      15.438471\n",
       "Sample3     153.00       4.187601\n",
       "Sample4     147.66      12.558121\n",
       "Sample5     159.12       8.818481"
      ]
     },
     "execution_count": 59,
     "metadata": {},
     "output_type": "execute_result"
    }
   ],
   "source": [
    "plant"
   ]
  },
  {
   "cell_type": "markdown",
   "id": "b1faedc6",
   "metadata": {},
   "source": [
    "## Visualisation"
   ]
  },
  {
   "cell_type": "code",
   "execution_count": 593,
   "id": "89926234",
   "metadata": {},
   "outputs": [],
   "source": [
    "import matplotlib.pyplot as plt\n",
    "\n",
    "def plot_dataframe(dataframe,title):\n",
    "    plot_title = str(title)\n",
    "    \n",
    "    dataframe.plot(kind='bar')\n",
    "    plt.title(plot_title)\n",
    "    plt.xlabel('X-axis Label')\n",
    "    plt.ylabel('Y-axis Label')\n",
    "    \n",
    "    x_labels = dataframe.index.tolist()\n",
    "    plt.xticks(range(len(x_labels)), x_labels, rotation='vertical')\n",
    "    \n",
    "    plt.show()"
   ]
  },
  {
   "cell_type": "code",
   "execution_count": 594,
   "id": "4750af69",
   "metadata": {},
   "outputs": [
    {
     "data": {
      "image/png": "[encoded data removed]",
      "text/plain": [
       "<Figure size 640x480 with 1 Axes>"
      ]
     },
     "metadata": {},
     "output_type": "display_data"
    }
   ],
   "source": [
    "plot_dataframe(elbow,\"ELBOW\")"
   ]
  },
  {
   "cell_type": "code",
   "execution_count": 595,
   "id": "d2cccf63",
   "metadata": {},
   "outputs": [
    {
     "data": {
      "image/png": "[encoded data removed]",
      "text/plain": [
       "<Figure size 640x480 with 1 Axes>"
      ]
     },
     "metadata": {},
     "output_type": "display_data"
    }
   ],
   "source": [
    "plot_dataframe(Leg,\"LEAD LEG TO STUMP DISTANCE\")"
   ]
  },
  {
   "cell_type": "code",
   "execution_count": 596,
   "id": "364e82f0",
   "metadata": {},
   "outputs": [
    {
     "data": {
      "image/png": "[encoded data removed]",
      "text/plain": [
       "<Figure size 640x480 with 1 Axes>"
      ]
     },
     "metadata": {},
     "output_type": "display_data"
    }
   ],
   "source": [
    "plot_dataframe(Ankle,\"ANKLE\")"
   ]
  },
  {
   "cell_type": "code",
   "execution_count": 597,
   "id": "d3e44e7b",
   "metadata": {},
   "outputs": [
    {
     "data": {
      "image/png": "[encoded data removed]",
      "text/plain": [
       "<Figure size 640x480 with 1 Axes>"
      ]
     },
     "metadata": {},
     "output_type": "display_data"
    }
   ],
   "source": [
    "x=plot_dataframe(Sh,\"SHOULDER\")\n"
   ]
  },
  {
   "cell_type": "markdown",
   "id": "d888c713",
   "metadata": {},
   "source": [
    "## Merging \n",
    "\n",
    "Here We merging all data using their average values"
   ]
  },
  {
   "cell_type": "code",
   "execution_count": 62,
   "id": "87f390ae",
   "metadata": {},
   "outputs": [
    {
     "data": {
      "text/html": [
       "<div>\n",
       "<style scoped>\n",
       "    .dataframe tbody tr th:only-of-type {\n",
       "        vertical-align: middle;\n",
       "    }\n",
       "\n",
       "    .dataframe tbody tr th {\n",
       "        vertical-align: top;\n",
       "    }\n",
       "\n",
       "    .dataframe thead th {\n",
       "        text-align: right;\n",
       "    }\n",
       "</style>\n",
       "<table border=\"1\" class=\"dataframe\">\n",
       "  <thead>\n",
       "    <tr style=\"text-align: right;\">\n",
       "      <th></th>\n",
       "      <th>Elbow_mean</th>\n",
       "      <th>Leg_mean</th>\n",
       "      <th>Shoulder_mean</th>\n",
       "      <th>ankle_mean</th>\n",
       "      <th>knee_mean</th>\n",
       "      <th>plantmean</th>\n",
       "    </tr>\n",
       "  </thead>\n",
       "  <tbody>\n",
       "    <tr>\n",
       "      <th>Sample1</th>\n",
       "      <td>103.00</td>\n",
       "      <td>86.652</td>\n",
       "      <td>111.600</td>\n",
       "      <td>101.66</td>\n",
       "      <td>129.52</td>\n",
       "      <td>118.10</td>\n",
       "    </tr>\n",
       "    <tr>\n",
       "      <th>Sample2</th>\n",
       "      <td>72.29</td>\n",
       "      <td>94.940</td>\n",
       "      <td>107.932</td>\n",
       "      <td>90.40</td>\n",
       "      <td>128.04</td>\n",
       "      <td>126.56</td>\n",
       "    </tr>\n",
       "    <tr>\n",
       "      <th>Sample3</th>\n",
       "      <td>67.28</td>\n",
       "      <td>105.734</td>\n",
       "      <td>109.420</td>\n",
       "      <td>94.19</td>\n",
       "      <td>142.16</td>\n",
       "      <td>153.00</td>\n",
       "    </tr>\n",
       "    <tr>\n",
       "      <th>Sample4</th>\n",
       "      <td>134.46</td>\n",
       "      <td>94.900</td>\n",
       "      <td>93.180</td>\n",
       "      <td>81.84</td>\n",
       "      <td>81.82</td>\n",
       "      <td>147.66</td>\n",
       "    </tr>\n",
       "    <tr>\n",
       "      <th>Sample5</th>\n",
       "      <td>136.04</td>\n",
       "      <td>114.140</td>\n",
       "      <td>66.000</td>\n",
       "      <td>66.74</td>\n",
       "      <td>91.40</td>\n",
       "      <td>159.12</td>\n",
       "    </tr>\n",
       "  </tbody>\n",
       "</table>\n",
       "</div>"
      ],
      "text/plain": [
       "         Elbow_mean  Leg_mean  Shoulder_mean  ankle_mean  knee_mean  plantmean\n",
       "Sample1      103.00    86.652        111.600      101.66     129.52     118.10\n",
       "Sample2       72.29    94.940        107.932       90.40     128.04     126.56\n",
       "Sample3       67.28   105.734        109.420       94.19     142.16     153.00\n",
       "Sample4      134.46    94.900         93.180       81.84      81.82     147.66\n",
       "Sample5      136.04   114.140         66.000       66.74      91.40     159.12"
      ]
     },
     "execution_count": 62,
     "metadata": {},
     "output_type": "execute_result"
    }
   ],
   "source": [
    "concatenated_df = pd.concat([elbow, Leg, Sh, Ankle, Knee, plant], axis=1)\n",
    "merge=concatenated_df\n",
    "merge.drop(\"std_deviation\",axis=1,inplace=True)\n",
    "merge\n",
    "\n"
   ]
  },
  {
   "cell_type": "code",
   "execution_count": 61,
   "id": "9fa2f836",
   "metadata": {},
   "outputs": [
    {
     "name": "stdout",
     "output_type": "stream",
     "text": [
      "               Elbow_mean  Leg_mean  Shoulder_mean  ankle_mean  knee_mean  \\\n",
      "Elbow_mean       1.000000  0.181975      -0.767197   -0.680304  -0.924865   \n",
      "Leg_mean         0.181975  1.000000      -0.726621   -0.753068  -0.239000   \n",
      "Shoulder_mean   -0.767197 -0.726621       1.000000    0.967017   0.770584   \n",
      "ankle_mean      -0.680304 -0.753068       0.967017    1.000000   0.781948   \n",
      "knee_mean       -0.924865 -0.239000       0.770584    0.781948   1.000000   \n",
      "plantmean        0.354979  0.882959      -0.688386   -0.740466  -0.453054   \n",
      "\n",
      "               plantmean  \n",
      "Elbow_mean      0.354979  \n",
      "Leg_mean        0.882959  \n",
      "Shoulder_mean  -0.688386  \n",
      "ankle_mean     -0.740466  \n",
      "knee_mean      -0.453054  \n",
      "plantmean       1.000000  \n"
     ]
    }
   ],
   "source": [
    "# Calculate correlation\n",
    "correlation_matrix = merge.corr()\n",
    "\n",
    "print(correlation_matrix)"
   ]
  },
  {
   "cell_type": "markdown",
   "id": "9f91b35d",
   "metadata": {},
   "source": [
    "## Fitting Regression\n",
    "\n",
    "Here we find a realtion b/w each ankle and speed of the ball.It is find by using Linear regression"
   ]
  },
  {
   "cell_type": "code",
   "execution_count": 72,
   "id": "5ec4d4a7",
   "metadata": {},
   "outputs": [
    {
     "data": {
      "text/html": [
       "<div>\n",
       "<style scoped>\n",
       "    .dataframe tbody tr th:only-of-type {\n",
       "        vertical-align: middle;\n",
       "    }\n",
       "\n",
       "    .dataframe tbody tr th {\n",
       "        vertical-align: top;\n",
       "    }\n",
       "\n",
       "    .dataframe thead th {\n",
       "        text-align: right;\n",
       "    }\n",
       "</style>\n",
       "<table border=\"1\" class=\"dataframe\">\n",
       "  <thead>\n",
       "    <tr style=\"text-align: right;\">\n",
       "      <th></th>\n",
       "      <th>Elbow_mean</th>\n",
       "      <th>std_deviation</th>\n",
       "    </tr>\n",
       "  </thead>\n",
       "  <tbody>\n",
       "    <tr>\n",
       "      <th>Sample1</th>\n",
       "      <td>103.00</td>\n",
       "      <td>27.221976</td>\n",
       "    </tr>\n",
       "    <tr>\n",
       "      <th>Sample2</th>\n",
       "      <td>72.29</td>\n",
       "      <td>16.325269</td>\n",
       "    </tr>\n",
       "    <tr>\n",
       "      <th>Sample3</th>\n",
       "      <td>67.28</td>\n",
       "      <td>5.780450</td>\n",
       "    </tr>\n",
       "    <tr>\n",
       "      <th>Sample4</th>\n",
       "      <td>134.46</td>\n",
       "      <td>10.732120</td>\n",
       "    </tr>\n",
       "    <tr>\n",
       "      <th>Sample5</th>\n",
       "      <td>136.04</td>\n",
       "      <td>7.814499</td>\n",
       "    </tr>\n",
       "  </tbody>\n",
       "</table>\n",
       "</div>"
      ],
      "text/plain": [
       "         Elbow_mean  std_deviation\n",
       "Sample1      103.00      27.221976\n",
       "Sample2       72.29      16.325269\n",
       "Sample3       67.28       5.780450\n",
       "Sample4      134.46      10.732120\n",
       "Sample5      136.04       7.814499"
      ]
     },
     "execution_count": 72,
     "metadata": {},
     "output_type": "execute_result"
    }
   ],
   "source": [
    "elbow"
   ]
  },
  {
   "cell_type": "code",
   "execution_count": 73,
   "id": "641bbb94",
   "metadata": {},
   "outputs": [],
   "source": [
    "A=elbow.drop(\"std_deviation\",axis=1)"
   ]
  },
  {
   "cell_type": "code",
   "execution_count": 74,
   "id": "603f2ada",
   "metadata": {},
   "outputs": [],
   "source": [
    "speed=[121.6,110.32,103.8,103.8,98]"
   ]
  },
  {
   "cell_type": "code",
   "execution_count": 75,
   "id": "f73d7317",
   "metadata": {},
   "outputs": [],
   "source": [
    "elbow[\"Speed\"]=speed"
   ]
  },
  {
   "cell_type": "code",
   "execution_count": 76,
   "id": "eb985f30",
   "metadata": {},
   "outputs": [
    {
     "data": {
      "text/html": [
       "<div>\n",
       "<style scoped>\n",
       "    .dataframe tbody tr th:only-of-type {\n",
       "        vertical-align: middle;\n",
       "    }\n",
       "\n",
       "    .dataframe tbody tr th {\n",
       "        vertical-align: top;\n",
       "    }\n",
       "\n",
       "    .dataframe thead th {\n",
       "        text-align: right;\n",
       "    }\n",
       "</style>\n",
       "<table border=\"1\" class=\"dataframe\">\n",
       "  <thead>\n",
       "    <tr style=\"text-align: right;\">\n",
       "      <th></th>\n",
       "      <th>Elbow_mean</th>\n",
       "      <th>Speed</th>\n",
       "    </tr>\n",
       "  </thead>\n",
       "  <tbody>\n",
       "    <tr>\n",
       "      <th>Sample1</th>\n",
       "      <td>103.00</td>\n",
       "      <td>121.60</td>\n",
       "    </tr>\n",
       "    <tr>\n",
       "      <th>Sample2</th>\n",
       "      <td>72.29</td>\n",
       "      <td>110.32</td>\n",
       "    </tr>\n",
       "    <tr>\n",
       "      <th>Sample3</th>\n",
       "      <td>67.28</td>\n",
       "      <td>103.80</td>\n",
       "    </tr>\n",
       "    <tr>\n",
       "      <th>Sample4</th>\n",
       "      <td>134.46</td>\n",
       "      <td>103.80</td>\n",
       "    </tr>\n",
       "    <tr>\n",
       "      <th>Sample5</th>\n",
       "      <td>136.04</td>\n",
       "      <td>98.00</td>\n",
       "    </tr>\n",
       "  </tbody>\n",
       "</table>\n",
       "</div>"
      ],
      "text/plain": [
       "         Elbow_mean   Speed\n",
       "Sample1      103.00  121.60\n",
       "Sample2       72.29  110.32\n",
       "Sample3       67.28  103.80\n",
       "Sample4      134.46  103.80\n",
       "Sample5      136.04   98.00"
      ]
     },
     "execution_count": 76,
     "metadata": {},
     "output_type": "execute_result"
    }
   ],
   "source": [
    "A=elbow.drop(\"std_deviation\",axis=1)\n",
    "A"
   ]
  },
  {
   "cell_type": "code",
   "execution_count": 77,
   "id": "4e38901a",
   "metadata": {},
   "outputs": [
    {
     "data": {
      "text/html": [
       "<div>\n",
       "<style scoped>\n",
       "    .dataframe tbody tr th:only-of-type {\n",
       "        vertical-align: middle;\n",
       "    }\n",
       "\n",
       "    .dataframe tbody tr th {\n",
       "        vertical-align: top;\n",
       "    }\n",
       "\n",
       "    .dataframe thead th {\n",
       "        text-align: right;\n",
       "    }\n",
       "</style>\n",
       "<table border=\"1\" class=\"dataframe\">\n",
       "  <thead>\n",
       "    <tr style=\"text-align: right;\">\n",
       "      <th></th>\n",
       "      <th>Elbow_mean</th>\n",
       "      <th>Speed</th>\n",
       "    </tr>\n",
       "  </thead>\n",
       "  <tbody>\n",
       "    <tr>\n",
       "      <th>Elbow_mean</th>\n",
       "      <td>1.00000</td>\n",
       "      <td>-0.32575</td>\n",
       "    </tr>\n",
       "    <tr>\n",
       "      <th>Speed</th>\n",
       "      <td>-0.32575</td>\n",
       "      <td>1.00000</td>\n",
       "    </tr>\n",
       "  </tbody>\n",
       "</table>\n",
       "</div>"
      ],
      "text/plain": [
       "            Elbow_mean    Speed\n",
       "Elbow_mean     1.00000 -0.32575\n",
       "Speed         -0.32575  1.00000"
      ]
     },
     "execution_count": 77,
     "metadata": {},
     "output_type": "execute_result"
    }
   ],
   "source": [
    "A.corr()"
   ]
  },
  {
   "cell_type": "code",
   "execution_count": 78,
   "id": "c13b6e43",
   "metadata": {},
   "outputs": [
    {
     "name": "stdout",
     "output_type": "stream",
     "text": [
      "Regression equation: Y = 116.69 + -0.09 * X\n"
     ]
    }
   ],
   "source": [
    "\n",
    "from sklearn.linear_model import LinearRegression\n",
    "\n",
    "\n",
    "\n",
    "# Separate the independent variable (X) and dependent variable (Y)\n",
    "X = elbow[['Elbow_mean']]\n",
    "Y = elbow['Speed']\n",
    "\n",
    "# Create a linear regression model\n",
    "model = LinearRegression()\n",
    "\n",
    "# Fit the model to the data\n",
    "model.fit(X, Y)\n",
    "\n",
    "# Retrieve the coefficients and intercept\n",
    "slope = model.coef_[0]\n",
    "intercept = model.intercept_\n",
    "\n",
    "# Print the equation of the regression line\n",
    "print(f\"Regression equation: Y = {intercept:.2f} + {slope:.2f} * X\")"
   ]
  },
  {
   "cell_type": "code",
   "execution_count": 79,
   "id": "a143886a",
   "metadata": {},
   "outputs": [],
   "source": [
    "speed2=[114.32,107.8,109.84,106.64,102.38]"
   ]
  },
  {
   "cell_type": "code",
   "execution_count": 80,
   "id": "b3e4d679",
   "metadata": {},
   "outputs": [],
   "source": [
    "Leg[\"Speed\"]=speed2"
   ]
  },
  {
   "cell_type": "code",
   "execution_count": 81,
   "id": "6eef1fe9",
   "metadata": {},
   "outputs": [],
   "source": [
    "B=Leg.drop(\"std_deviation\",axis=1)"
   ]
  },
  {
   "cell_type": "code",
   "execution_count": 105,
   "id": "5dea2ef7",
   "metadata": {},
   "outputs": [
    {
     "data": {
      "text/html": [
       "<div>\n",
       "<style scoped>\n",
       "    .dataframe tbody tr th:only-of-type {\n",
       "        vertical-align: middle;\n",
       "    }\n",
       "\n",
       "    .dataframe tbody tr th {\n",
       "        vertical-align: top;\n",
       "    }\n",
       "\n",
       "    .dataframe thead th {\n",
       "        text-align: right;\n",
       "    }\n",
       "</style>\n",
       "<table border=\"1\" class=\"dataframe\">\n",
       "  <thead>\n",
       "    <tr style=\"text-align: right;\">\n",
       "      <th></th>\n",
       "      <th>Leg_mean</th>\n",
       "      <th>Speed</th>\n",
       "    </tr>\n",
       "  </thead>\n",
       "  <tbody>\n",
       "    <tr>\n",
       "      <th>Leg_mean</th>\n",
       "      <td>1.000000</td>\n",
       "      <td>-0.770392</td>\n",
       "    </tr>\n",
       "    <tr>\n",
       "      <th>Speed</th>\n",
       "      <td>-0.770392</td>\n",
       "      <td>1.000000</td>\n",
       "    </tr>\n",
       "  </tbody>\n",
       "</table>\n",
       "</div>"
      ],
      "text/plain": [
       "          Leg_mean     Speed\n",
       "Leg_mean  1.000000 -0.770392\n",
       "Speed    -0.770392  1.000000"
      ]
     },
     "execution_count": 105,
     "metadata": {},
     "output_type": "execute_result"
    }
   ],
   "source": [
    "Leg.drop(\"std_deviation\",axis=1).corr()\n"
   ]
  },
  {
   "cell_type": "code",
   "execution_count": 106,
   "id": "ba7db779",
   "metadata": {},
   "outputs": [
    {
     "data": {
      "text/html": [
       "<div>\n",
       "<style scoped>\n",
       "    .dataframe tbody tr th:only-of-type {\n",
       "        vertical-align: middle;\n",
       "    }\n",
       "\n",
       "    .dataframe tbody tr th {\n",
       "        vertical-align: top;\n",
       "    }\n",
       "\n",
       "    .dataframe thead th {\n",
       "        text-align: right;\n",
       "    }\n",
       "</style>\n",
       "<table border=\"1\" class=\"dataframe\">\n",
       "  <thead>\n",
       "    <tr style=\"text-align: right;\">\n",
       "      <th></th>\n",
       "      <th>Leg_mean</th>\n",
       "      <th>Speed</th>\n",
       "    </tr>\n",
       "  </thead>\n",
       "  <tbody>\n",
       "    <tr>\n",
       "      <th>Sample1</th>\n",
       "      <td>86.652</td>\n",
       "      <td>114.32</td>\n",
       "    </tr>\n",
       "    <tr>\n",
       "      <th>Sample2</th>\n",
       "      <td>94.940</td>\n",
       "      <td>107.80</td>\n",
       "    </tr>\n",
       "    <tr>\n",
       "      <th>Sample3</th>\n",
       "      <td>105.734</td>\n",
       "      <td>109.84</td>\n",
       "    </tr>\n",
       "    <tr>\n",
       "      <th>Sample4</th>\n",
       "      <td>94.900</td>\n",
       "      <td>106.64</td>\n",
       "    </tr>\n",
       "    <tr>\n",
       "      <th>Sample5</th>\n",
       "      <td>114.140</td>\n",
       "      <td>102.38</td>\n",
       "    </tr>\n",
       "  </tbody>\n",
       "</table>\n",
       "</div>"
      ],
      "text/plain": [
       "         Leg_mean   Speed\n",
       "Sample1    86.652  114.32\n",
       "Sample2    94.940  107.80\n",
       "Sample3   105.734  109.84\n",
       "Sample4    94.900  106.64\n",
       "Sample5   114.140  102.38"
      ]
     },
     "execution_count": 106,
     "metadata": {},
     "output_type": "execute_result"
    }
   ],
   "source": [
    "B"
   ]
  },
  {
   "cell_type": "code",
   "execution_count": 83,
   "id": "ca7c4005",
   "metadata": {},
   "outputs": [
    {
     "name": "stdout",
     "output_type": "stream",
     "text": [
      "Regression equation: Y = 139.41 + -0.31 * X\n"
     ]
    }
   ],
   "source": [
    "from sklearn.linear_model import LinearRegression\n",
    "\n",
    "\n",
    "\n",
    "# Separate the independent variable (X) and dependent variable (Y)\n",
    "X = Leg[['Leg_mean']]\n",
    "Y = Leg['Speed']\n",
    "\n",
    "# Create a linear regression model\n",
    "model = LinearRegression()\n",
    "\n",
    "# Fit the model to the data\n",
    "model.fit(X, Y)\n",
    "\n",
    "# Retrieve the coefficients and intercept\n",
    "slope = model.coef_[0]\n",
    "intercept = model.intercept_\n",
    "\n",
    "# Print the equation of the regression line\n",
    "print(f\"Regression equation: Y = {intercept:.2f} + {slope:.2f} * X\")"
   ]
  },
  {
   "cell_type": "code",
   "execution_count": 84,
   "id": "407d1be8",
   "metadata": {},
   "outputs": [],
   "source": [
    "speed3=[115.78,107.32,115.22,116.98,124.52]"
   ]
  },
  {
   "cell_type": "code",
   "execution_count": 85,
   "id": "14dd1229",
   "metadata": {},
   "outputs": [],
   "source": [
    "Sh[\"Speed\"]=speed3"
   ]
  },
  {
   "cell_type": "code",
   "execution_count": 86,
   "id": "a42cc968",
   "metadata": {},
   "outputs": [],
   "source": [
    "C=Sh.drop(\"std_deviation\",axis=1)"
   ]
  },
  {
   "cell_type": "code",
   "execution_count": 87,
   "id": "5a2854da",
   "metadata": {},
   "outputs": [
    {
     "data": {
      "text/html": [
       "<div>\n",
       "<style scoped>\n",
       "    .dataframe tbody tr th:only-of-type {\n",
       "        vertical-align: middle;\n",
       "    }\n",
       "\n",
       "    .dataframe tbody tr th {\n",
       "        vertical-align: top;\n",
       "    }\n",
       "\n",
       "    .dataframe thead th {\n",
       "        text-align: right;\n",
       "    }\n",
       "</style>\n",
       "<table border=\"1\" class=\"dataframe\">\n",
       "  <thead>\n",
       "    <tr style=\"text-align: right;\">\n",
       "      <th></th>\n",
       "      <th>Shoulder_mean</th>\n",
       "      <th>Speed</th>\n",
       "    </tr>\n",
       "  </thead>\n",
       "  <tbody>\n",
       "    <tr>\n",
       "      <th>Shoulder_mean</th>\n",
       "      <td>1.000000</td>\n",
       "      <td>-0.803551</td>\n",
       "    </tr>\n",
       "    <tr>\n",
       "      <th>Speed</th>\n",
       "      <td>-0.803551</td>\n",
       "      <td>1.000000</td>\n",
       "    </tr>\n",
       "  </tbody>\n",
       "</table>\n",
       "</div>"
      ],
      "text/plain": [
       "               Shoulder_mean     Speed\n",
       "Shoulder_mean       1.000000 -0.803551\n",
       "Speed              -0.803551  1.000000"
      ]
     },
     "execution_count": 87,
     "metadata": {},
     "output_type": "execute_result"
    }
   ],
   "source": [
    "Sh.drop(\"std_deviation\",axis=1).corr()"
   ]
  },
  {
   "cell_type": "code",
   "execution_count": 88,
   "id": "8d74af2c",
   "metadata": {},
   "outputs": [
    {
     "name": "stdout",
     "output_type": "stream",
     "text": [
      "Regression equation: Y = 141.07 + -0.26 * X\n"
     ]
    }
   ],
   "source": [
    "from sklearn.linear_model import LinearRegression\n",
    "\n",
    "\n",
    "\n",
    "# Separate the independent variable (X) and dependent variable (Y)\n",
    "X = Sh[['Shoulder_mean']]\n",
    "Y = Sh['Speed']\n",
    "\n",
    "# Create a linear regression model\n",
    "model = LinearRegression()\n",
    "\n",
    "# Fit the model to the data\n",
    "model.fit(X, Y)\n",
    "\n",
    "# Retrieve the coefficients and intercept\n",
    "slope = model.coef_[0]\n",
    "intercept = model.intercept_\n",
    "\n",
    "# Print the equation of the regression line\n",
    "print(f\"Regression equation: Y = {intercept:.2f} + {slope:.2f} * X\")"
   ]
  },
  {
   "cell_type": "code",
   "execution_count": 89,
   "id": "e2e9fc8a",
   "metadata": {},
   "outputs": [],
   "source": [
    "speed4=[78.8,83.6,225.6,84.36,78.2]"
   ]
  },
  {
   "cell_type": "code",
   "execution_count": 90,
   "id": "e159842a",
   "metadata": {},
   "outputs": [],
   "source": [
    "Ankle[\"Speed\"]=speed4"
   ]
  },
  {
   "cell_type": "code",
   "execution_count": 91,
   "id": "14fec308",
   "metadata": {},
   "outputs": [
    {
     "data": {
      "text/html": [
       "<div>\n",
       "<style scoped>\n",
       "    .dataframe tbody tr th:only-of-type {\n",
       "        vertical-align: middle;\n",
       "    }\n",
       "\n",
       "    .dataframe tbody tr th {\n",
       "        vertical-align: top;\n",
       "    }\n",
       "\n",
       "    .dataframe thead th {\n",
       "        text-align: right;\n",
       "    }\n",
       "</style>\n",
       "<table border=\"1\" class=\"dataframe\">\n",
       "  <thead>\n",
       "    <tr style=\"text-align: right;\">\n",
       "      <th></th>\n",
       "      <th>ankle_mean</th>\n",
       "      <th>Speed</th>\n",
       "    </tr>\n",
       "  </thead>\n",
       "  <tbody>\n",
       "    <tr>\n",
       "      <th>ankle_mean</th>\n",
       "      <td>1.000000</td>\n",
       "      <td>0.306854</td>\n",
       "    </tr>\n",
       "    <tr>\n",
       "      <th>Speed</th>\n",
       "      <td>0.306854</td>\n",
       "      <td>1.000000</td>\n",
       "    </tr>\n",
       "  </tbody>\n",
       "</table>\n",
       "</div>"
      ],
      "text/plain": [
       "            ankle_mean     Speed\n",
       "ankle_mean    1.000000  0.306854\n",
       "Speed         0.306854  1.000000"
      ]
     },
     "execution_count": 91,
     "metadata": {},
     "output_type": "execute_result"
    }
   ],
   "source": [
    "Ankle.drop(\"std_deviation\",axis=1).corr()"
   ]
  },
  {
   "cell_type": "code",
   "execution_count": 92,
   "id": "2118a0c8",
   "metadata": {},
   "outputs": [],
   "source": [
    "D=Ankle.drop(\"std_deviation\",axis=1)"
   ]
  },
  {
   "cell_type": "code",
   "execution_count": 93,
   "id": "2e01d9fc",
   "metadata": {},
   "outputs": [
    {
     "name": "stdout",
     "output_type": "stream",
     "text": [
      "Regression equation: Y = -18.84 + 1.48 * X\n"
     ]
    }
   ],
   "source": [
    "from sklearn.linear_model import LinearRegression\n",
    "\n",
    "\n",
    "\n",
    "# Separate the independent variable (X) and dependent variable (Y)\n",
    "X = Ankle[['ankle_mean']]\n",
    "Y = Ankle['Speed']\n",
    "\n",
    "# Create a linear regression model\n",
    "model = LinearRegression()\n",
    "\n",
    "# Fit the model to the data\n",
    "model.fit(X, Y)\n",
    "\n",
    "# Retrieve the coefficients and intercept\n",
    "slope = model.coef_[0]\n",
    "intercept = model.intercept_\n",
    "\n",
    "# Print the equation of the regression line\n",
    "print(f\"Regression equation: Y = {intercept:.2f} + {slope:.2f} * X\")"
   ]
  },
  {
   "cell_type": "code",
   "execution_count": 94,
   "id": "44c0696f",
   "metadata": {},
   "outputs": [],
   "source": [
    "speed5=[110,105.7,115.76,102.8,103.8]"
   ]
  },
  {
   "cell_type": "code",
   "execution_count": 95,
   "id": "e1299401",
   "metadata": {},
   "outputs": [],
   "source": [
    "Knee[\"Speed\"]=speed5"
   ]
  },
  {
   "cell_type": "code",
   "execution_count": 96,
   "id": "9447cdba",
   "metadata": {},
   "outputs": [],
   "source": [
    "E=Knee.drop(\"std_deviation\",axis=1)"
   ]
  },
  {
   "cell_type": "code",
   "execution_count": 97,
   "id": "5e7ebeb9",
   "metadata": {},
   "outputs": [
    {
     "data": {
      "text/html": [
       "<div>\n",
       "<style scoped>\n",
       "    .dataframe tbody tr th:only-of-type {\n",
       "        vertical-align: middle;\n",
       "    }\n",
       "\n",
       "    .dataframe tbody tr th {\n",
       "        vertical-align: top;\n",
       "    }\n",
       "\n",
       "    .dataframe thead th {\n",
       "        text-align: right;\n",
       "    }\n",
       "</style>\n",
       "<table border=\"1\" class=\"dataframe\">\n",
       "  <thead>\n",
       "    <tr style=\"text-align: right;\">\n",
       "      <th></th>\n",
       "      <th>knee_mean</th>\n",
       "      <th>Speed</th>\n",
       "    </tr>\n",
       "  </thead>\n",
       "  <tbody>\n",
       "    <tr>\n",
       "      <th>knee_mean</th>\n",
       "      <td>1.000000</td>\n",
       "      <td>0.856633</td>\n",
       "    </tr>\n",
       "    <tr>\n",
       "      <th>Speed</th>\n",
       "      <td>0.856633</td>\n",
       "      <td>1.000000</td>\n",
       "    </tr>\n",
       "  </tbody>\n",
       "</table>\n",
       "</div>"
      ],
      "text/plain": [
       "           knee_mean     Speed\n",
       "knee_mean   1.000000  0.856633\n",
       "Speed       0.856633  1.000000"
      ]
     },
     "execution_count": 97,
     "metadata": {},
     "output_type": "execute_result"
    }
   ],
   "source": [
    "Knee.drop(\"std_deviation\",axis=1).corr()"
   ]
  },
  {
   "cell_type": "code",
   "execution_count": 98,
   "id": "33d5e168",
   "metadata": {},
   "outputs": [
    {
     "name": "stdout",
     "output_type": "stream",
     "text": [
      "Regression equation: Y = 87.77 + 0.17 * X\n"
     ]
    }
   ],
   "source": [
    "from sklearn.linear_model import LinearRegression\n",
    "\n",
    "\n",
    "\n",
    "# Separate the independent variable (X) and dependent variable (Y)\n",
    "X = Knee[['knee_mean']]\n",
    "Y = Knee['Speed']\n",
    "\n",
    "# Create a linear regression model\n",
    "model = LinearRegression()\n",
    "\n",
    "# Fit the model to the data\n",
    "model.fit(X, Y)\n",
    "\n",
    "# Retrieve the coefficients and intercept\n",
    "slope = model.coef_[0]\n",
    "intercept = model.intercept_\n",
    "\n",
    "# Print the equation of the regression line\n",
    "print(f\"Regression equation: Y = {intercept:.2f} + {slope:.2f} * X\")"
   ]
  },
  {
   "cell_type": "code",
   "execution_count": 99,
   "id": "51b864da",
   "metadata": {},
   "outputs": [],
   "source": [
    "speed6=[113.72,106.62,111.8,102.8,103.36]\n",
    "plant[\"Speed\"]=speed6"
   ]
  },
  {
   "cell_type": "code",
   "execution_count": 100,
   "id": "a1b032dc",
   "metadata": {},
   "outputs": [
    {
     "name": "stdout",
     "output_type": "stream",
     "text": [
      "Regression equation: Y = 128.45 + -0.15 * X\n"
     ]
    }
   ],
   "source": [
    "from sklearn.linear_model import LinearRegression\n",
    "\n",
    "\n",
    "\n",
    "# Separate the independent variable (X) and dependent variable (Y)\n",
    "X = plant[['plantmean']]\n",
    "Y = plant['Speed']\n",
    "\n",
    "# Create a linear regression model\n",
    "model = LinearRegression()\n",
    "\n",
    "# Fit the model to the data\n",
    "model.fit(X, Y)\n",
    "\n",
    "# Retrieve the coefficients and intercept\n",
    "slope = model.coef_[0]\n",
    "intercept = model.intercept_\n",
    "\n",
    "# Print the equation of the regression line\n",
    "print(f\"Regression equation: Y = {intercept:.2f} + {slope:.2f} * X\")"
   ]
  },
  {
   "cell_type": "code",
   "execution_count": 101,
   "id": "f7e6df02",
   "metadata": {},
   "outputs": [
    {
     "data": {
      "text/html": [
       "<div>\n",
       "<style scoped>\n",
       "    .dataframe tbody tr th:only-of-type {\n",
       "        vertical-align: middle;\n",
       "    }\n",
       "\n",
       "    .dataframe tbody tr th {\n",
       "        vertical-align: top;\n",
       "    }\n",
       "\n",
       "    .dataframe thead th {\n",
       "        text-align: right;\n",
       "    }\n",
       "</style>\n",
       "<table border=\"1\" class=\"dataframe\">\n",
       "  <thead>\n",
       "    <tr style=\"text-align: right;\">\n",
       "      <th></th>\n",
       "      <th>plantmean</th>\n",
       "      <th>Speed</th>\n",
       "    </tr>\n",
       "  </thead>\n",
       "  <tbody>\n",
       "    <tr>\n",
       "      <th>plantmean</th>\n",
       "      <td>1.000000</td>\n",
       "      <td>-0.529398</td>\n",
       "    </tr>\n",
       "    <tr>\n",
       "      <th>Speed</th>\n",
       "      <td>-0.529398</td>\n",
       "      <td>1.000000</td>\n",
       "    </tr>\n",
       "  </tbody>\n",
       "</table>\n",
       "</div>"
      ],
      "text/plain": [
       "           plantmean     Speed\n",
       "plantmean   1.000000 -0.529398\n",
       "Speed      -0.529398  1.000000"
      ]
     },
     "execution_count": 101,
     "metadata": {},
     "output_type": "execute_result"
    }
   ],
   "source": [
    "F=plant.drop(\"std_deviation\",axis=1)\n",
    "plant.drop(\"std_deviation\",axis=1).corr()"
   ]
  },
  {
   "cell_type": "markdown",
   "id": "c48d9f64",
   "metadata": {},
   "source": [
    "## Scatterplot with regression line"
   ]
  },
  {
   "cell_type": "code",
   "execution_count": 111,
   "id": "92bf4076",
   "metadata": {},
   "outputs": [
    {
     "data": {
      "image/png": "[encoded data removed]",
      "text/plain": [
       "<Figure size 500x500 with 1 Axes>"
      ]
     },
     "metadata": {},
     "output_type": "display_data"
    }
   ],
   "source": [
    "sns.lmplot(data=A,x=\"Elbow_mean\",y=\"Speed\")\n",
    "plt.title(\"Regression plot of Elbow angle and Speed\")\n",
    "plt.xlabel(\"Elbow_angle\")\n",
    "plt.ylabel(\"Speed\")\n",
    "plt.show()"
   ]
  },
  {
   "cell_type": "code",
   "execution_count": 112,
   "id": "65ad3ba8",
   "metadata": {},
   "outputs": [
    {
     "data": {
      "image/png": "[encoded data removed]",
      "text/plain": [
       "<Figure size 500x500 with 1 Axes>"
      ]
     },
     "metadata": {},
     "output_type": "display_data"
    }
   ],
   "source": [
    "sns.lmplot(data=B,x=\"Leg_mean\",y=\"Speed\")\n",
    "plt.title(\"Regression plot of Leg angle and Speed\")\n",
    "plt.xlabel(\"Leg_angle\")\n",
    "plt.ylabel(\"Speed\")\n",
    "plt.show()"
   ]
  },
  {
   "cell_type": "code",
   "execution_count": 113,
   "id": "d3bd01dd",
   "metadata": {},
   "outputs": [
    {
     "data": {
      "image/png": "[encoded data removed]",
      "text/plain": [
       "<Figure size 500x500 with 1 Axes>"
      ]
     },
     "metadata": {},
     "output_type": "display_data"
    }
   ],
   "source": [
    "sns.lmplot(data=C,x=\"Shoulder_mean\",y=\"Speed\")\n",
    "plt.title(\"Regression plot of Shoulder angle and Speed\")\n",
    "plt.xlabel(\"Shoulder_angle\")\n",
    "plt.ylabel(\"Speed\")\n",
    "plt.show()"
   ]
  },
  {
   "cell_type": "code",
   "execution_count": 114,
   "id": "630889f6",
   "metadata": {},
   "outputs": [
    {
     "data": {
      "image/png": "[encoded data removed]",
      "text/plain": [
       "<Figure size 500x500 with 1 Axes>"
      ]
     },
     "metadata": {},
     "output_type": "display_data"
    }
   ],
   "source": [
    "sns.lmplot(data=D,x=\"ankle_mean\",y=\"Speed\")\n",
    "plt.title(\"Regression plot of Ankle angle and Speed\")\n",
    "plt.xlabel(\"Ankle_angle\")\n",
    "plt.ylabel(\"Speed\")\n",
    "plt.show()"
   ]
  },
  {
   "cell_type": "code",
   "execution_count": 116,
   "id": "9bc871f0",
   "metadata": {},
   "outputs": [
    {
     "data": {
      "image/png": "[encoded data removed]",
      "text/plain": [
       "<Figure size 500x500 with 1 Axes>"
      ]
     },
     "metadata": {},
     "output_type": "display_data"
    }
   ],
   "source": [
    "sns.lmplot(data=E,x=\"knee_mean\",y=\"Speed\")\n",
    "plt.title(\"Regression plot of Knee angle and Speed\")\n",
    "plt.xlabel(\"Knee_angle\")\n",
    "plt.ylabel(\"Speed\")\n",
    "plt.show()"
   ]
  },
  {
   "cell_type": "code",
   "execution_count": 117,
   "id": "ff10b50e",
   "metadata": {},
   "outputs": [
    {
     "data": {
      "image/png": "[encoded data removed]",
      "text/plain": [
       "<Figure size 500x500 with 1 Axes>"
      ]
     },
     "metadata": {},
     "output_type": "display_data"
    }
   ],
   "source": [
    "sns.lmplot(data=F,x=\"plantmean\",y=\"Speed\")\n",
    "plt.title(\"Regression plot of Plant angle and Speed\")\n",
    "plt.xlabel(\"Plant_angle\")\n",
    "plt.ylabel(\"Speed\")\n",
    "plt.show()"
   ]
  },
  {
   "cell_type": "code",
   "execution_count": null,
   "id": "2e6008e8",
   "metadata": {},
   "outputs": [],
   "source": []
  },
  {
   "cell_type": "code",
   "execution_count": null,
   "id": "eed97941",
   "metadata": {},
   "outputs": [],
   "source": []
  }
 ],
 "metadata": {
  "kernelspec": {
   "display_name": "Python 3 (ipykernel)",
   "language": "python",
   "name": "python3"
  },
  "language_info": {
   "codemirror_mode": {
    "name": "ipython",
    "version": 3
   },
   "file_extension": ".py",
   "mimetype": "text/x-python",
   "name": "python",
   "nbconvert_exporter": "python",
   "pygments_lexer": "ipython3",
   "version": "3.10.9"
  }
 },
 "nbformat": 4,
 "nbformat_minor": 5
}
